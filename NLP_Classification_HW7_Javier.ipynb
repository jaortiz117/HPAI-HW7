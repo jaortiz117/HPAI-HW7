{
  "nbformat": 4,
  "nbformat_minor": 0,
  "metadata": {
    "colab": {
      "name": "NLP - Classification - HW7 Javier.ipynb",
      "version": "0.3.2",
      "provenance": [],
      "collapsed_sections": [],
      "toc_visible": true
    },
    "kernelspec": {
      "name": "python3",
      "display_name": "Python 3"
    }
  },
  "cells": [
    {
      "metadata": {
        "id": "2DyG4I1Wum67",
        "colab_type": "text"
      },
      "cell_type": "markdown",
      "source": [
        "# Natural Language Processing - Classification\n",
        "\n",
        "**Adapted from: Emmanuel Dufourq** (edufourq@gmail.com - [www.emmanueldufourq.com](http://www.emmanueldufourq.com) )\n",
        "\n",
        "July 2018\n",
        "\n",
        "*Made for the Theoretical Foundations of Data Science 2018 (African Institute for Mathematical Sciences)*\n",
        "\n",
        "Adapted from https://cloud.google.com/blog/big-data/2017/10/intro-to-text-classification-with-keras-automatically-tagging-stack-overflow-posts\n",
        "\n",
        "### Objective:\n",
        "\n",
        "Construct a model that can classify text data. Here we are interested in tagging reviews from Amazon.\n"
      ]
    },
    {
      "metadata": {
        "id": "VYEWM_MZOkoy",
        "colab_type": "text"
      },
      "cell_type": "markdown",
      "source": [
        "**Important Clarification**\n",
        "\n",
        "This example is using Amazon review from the [Cards against Humanity](https://www.amazon.com/Cards-Against-Humanity-LLC-CAHUS/product-reviews/B004S8F7QM/ref=cm_cr_arp_d_hist_2?ie=UTF8&filterByStar=two_star&reviewerType=all_reviews&pageNumber=1#reviews-filter-bar) product.\n",
        "\n",
        "All the collected data sets are available for download on [this](https://github.com/jaortiz117/HPAI-HW7) github repository"
      ]
    },
    {
      "metadata": {
        "id": "ghQze2778l-w",
        "colab_type": "text"
      },
      "cell_type": "markdown",
      "source": [
        "## Imports"
      ]
    },
    {
      "metadata": {
        "id": "FOVjj6tYumMV",
        "colab_type": "code",
        "outputId": "e635a7fc-ecbc-4d41-f225-111e4fca6a14",
        "colab": {
          "base_uri": "https://localhost:8080/",
          "height": 34
        }
      },
      "cell_type": "code",
      "source": [
        "import pandas as pd\n",
        "from sklearn.model_selection import train_test_split\n",
        "import keras\n",
        "from sklearn.preprocessing import LabelBinarizer, LabelEncoder\n",
        "from keras.preprocessing import text, sequence\n",
        "from keras import utils\n",
        "from keras.models import Sequential\n",
        "from keras.layers import Dense, Activation, Dropout\n",
        "import numpy as np"
      ],
      "execution_count": 1,
      "outputs": [
        {
          "output_type": "stream",
          "text": [
            "Using TensorFlow backend.\n"
          ],
          "name": "stderr"
        }
      ]
    },
    {
      "metadata": {
        "id": "9CV7GQdF8nXL",
        "colab_type": "text"
      },
      "cell_type": "markdown",
      "source": [
        "## Download the data"
      ]
    },
    {
      "metadata": {
        "id": "tQ9l529hwOSE",
        "colab_type": "code",
        "colab": {}
      },
      "cell_type": "code",
      "source": [
        "df = pd.read_csv(\"https://raw.githubusercontent.com/jaortiz117/HPAI-HW7/master/merged-reviews.csv\")"
      ],
      "execution_count": 0,
      "outputs": []
    },
    {
      "metadata": {
        "id": "qWmWkaiL8wg2",
        "colab_type": "text"
      },
      "cell_type": "markdown",
      "source": [
        "## Look the some of the data"
      ]
    },
    {
      "metadata": {
        "id": "LNPrvGlDweDg",
        "colab_type": "code",
        "outputId": "0726bfd2-a269-4690-c028-56487965048f",
        "colab": {
          "base_uri": "https://localhost:8080/",
          "height": 195
        }
      },
      "cell_type": "code",
      "source": [
        "df.head()"
      ],
      "execution_count": 3,
      "outputs": [
        {
          "output_type": "execute_result",
          "data": {
            "text/html": [
              "<div>\n",
              "<style scoped>\n",
              "    .dataframe tbody tr th:only-of-type {\n",
              "        vertical-align: middle;\n",
              "    }\n",
              "\n",
              "    .dataframe tbody tr th {\n",
              "        vertical-align: top;\n",
              "    }\n",
              "\n",
              "    .dataframe thead th {\n",
              "        text-align: right;\n",
              "    }\n",
              "</style>\n",
              "<table border=\"1\" class=\"dataframe\">\n",
              "  <thead>\n",
              "    <tr style=\"text-align: right;\">\n",
              "      <th></th>\n",
              "      <th>post</th>\n",
              "      <th>tags</th>\n",
              "    </tr>\n",
              "  </thead>\n",
              "  <tbody>\n",
              "    <tr>\n",
              "      <th>0</th>\n",
              "      <td>Is this what the world has come to?!Utterly ba...</td>\n",
              "      <td>1</td>\n",
              "    </tr>\n",
              "    <tr>\n",
              "      <th>1</th>\n",
              "      <td>Too much for a family game.  Didn't realize ho...</td>\n",
              "      <td>1</td>\n",
              "    </tr>\n",
              "    <tr>\n",
              "      <th>2</th>\n",
              "      <td>a 13 yr old meth head might think it is funny,...</td>\n",
              "      <td>1</td>\n",
              "    </tr>\n",
              "    <tr>\n",
              "      <th>3</th>\n",
              "      <td>If you are 18 and drunk, this game is for you,...</td>\n",
              "      <td>1</td>\n",
              "    </tr>\n",
              "    <tr>\n",
              "      <th>4</th>\n",
              "      <td>It’s just not very funny, compared to Relative...</td>\n",
              "      <td>1</td>\n",
              "    </tr>\n",
              "  </tbody>\n",
              "</table>\n",
              "</div>"
            ],
            "text/plain": [
              "                                                post  tags\n",
              "0  Is this what the world has come to?!Utterly ba...     1\n",
              "1  Too much for a family game.  Didn't realize ho...     1\n",
              "2  a 13 yr old meth head might think it is funny,...     1\n",
              "3  If you are 18 and drunk, this game is for you,...     1\n",
              "4  It’s just not very funny, compared to Relative...     1"
            ]
          },
          "metadata": {
            "tags": []
          },
          "execution_count": 3
        }
      ]
    },
    {
      "metadata": {
        "id": "xDa26vte9EbG",
        "colab_type": "text"
      },
      "cell_type": "markdown",
      "source": [
        "## Print out the unique tags"
      ]
    },
    {
      "metadata": {
        "id": "0awTmRECw7Su",
        "colab_type": "code",
        "outputId": "84553486-2cfe-49be-f2e8-0fafbfad1e47",
        "colab": {
          "base_uri": "https://localhost:8080/",
          "height": 34
        }
      },
      "cell_type": "code",
      "source": [
        "df['tags'].unique()"
      ],
      "execution_count": 4,
      "outputs": [
        {
          "output_type": "execute_result",
          "data": {
            "text/plain": [
              "array([1, 2, 3, 4, 5])"
            ]
          },
          "metadata": {
            "tags": []
          },
          "execution_count": 4
        }
      ]
    },
    {
      "metadata": {
        "id": "B2FrPtci9Iru",
        "colab_type": "text"
      },
      "cell_type": "markdown",
      "source": [
        "## Determine the number of classes"
      ]
    },
    {
      "metadata": {
        "id": "AT9oGW7j1Pxc",
        "colab_type": "code",
        "colab": {}
      },
      "cell_type": "code",
      "source": [
        "num_classes = len(df['tags'].unique())"
      ],
      "execution_count": 0,
      "outputs": []
    },
    {
      "metadata": {
        "id": "1qWgjxPZ1vMd",
        "colab_type": "code",
        "outputId": "1f03cb6d-8fb1-40a1-d879-92b58eac5af1",
        "colab": {
          "base_uri": "https://localhost:8080/",
          "height": 34
        }
      },
      "cell_type": "code",
      "source": [
        "num_classes"
      ],
      "execution_count": 6,
      "outputs": [
        {
          "output_type": "execute_result",
          "data": {
            "text/plain": [
              "5"
            ]
          },
          "metadata": {
            "tags": []
          },
          "execution_count": 6
        }
      ]
    },
    {
      "metadata": {
        "id": "HF6ABFMu9Lub",
        "colab_type": "text"
      },
      "cell_type": "markdown",
      "source": [
        "## Check how many instances for each class"
      ]
    },
    {
      "metadata": {
        "id": "ZCCp1jlNwpjd",
        "colab_type": "code",
        "outputId": "c8218052-dbba-4f30-af13-d7f05c1f6d18",
        "colab": {
          "base_uri": "https://localhost:8080/",
          "height": 122
        }
      },
      "cell_type": "code",
      "source": [
        "df['tags'].value_counts()"
      ],
      "execution_count": 7,
      "outputs": [
        {
          "output_type": "execute_result",
          "data": {
            "text/plain": [
              "5    100\n",
              "4    100\n",
              "3    100\n",
              "2    100\n",
              "1    100\n",
              "Name: tags, dtype: int64"
            ]
          },
          "metadata": {
            "tags": []
          },
          "execution_count": 7
        }
      ]
    },
    {
      "metadata": {
        "id": "eQG4LhBB9PF5",
        "colab_type": "text"
      },
      "cell_type": "markdown",
      "source": [
        "## Determine the number of words in each instance"
      ]
    },
    {
      "metadata": {
        "id": "EMvO7lWIyOr8",
        "colab_type": "code",
        "colab": {}
      },
      "cell_type": "code",
      "source": [
        "df['Word Count'] =  df['post'].apply(lambda x: len(x.split (' ')))"
      ],
      "execution_count": 0,
      "outputs": []
    },
    {
      "metadata": {
        "id": "Syd1TfULzOke",
        "colab_type": "code",
        "outputId": "e4f85150-08d2-403e-8b7f-da9d137d951d",
        "colab": {
          "base_uri": "https://localhost:8080/",
          "height": 1882
        }
      },
      "cell_type": "code",
      "source": [
        " df.sort_values(by=['Word Count'], ascending=False)"
      ],
      "execution_count": 9,
      "outputs": [
        {
          "output_type": "execute_result",
          "data": {
            "text/html": [
              "<div>\n",
              "<style scoped>\n",
              "    .dataframe tbody tr th:only-of-type {\n",
              "        vertical-align: middle;\n",
              "    }\n",
              "\n",
              "    .dataframe tbody tr th {\n",
              "        vertical-align: top;\n",
              "    }\n",
              "\n",
              "    .dataframe thead th {\n",
              "        text-align: right;\n",
              "    }\n",
              "</style>\n",
              "<table border=\"1\" class=\"dataframe\">\n",
              "  <thead>\n",
              "    <tr style=\"text-align: right;\">\n",
              "      <th></th>\n",
              "      <th>post</th>\n",
              "      <th>tags</th>\n",
              "      <th>Word Count</th>\n",
              "    </tr>\n",
              "  </thead>\n",
              "  <tbody>\n",
              "    <tr>\n",
              "      <th>342</th>\n",
              "      <td>Cards Against Humanity: 4+ Players, Ages 17+, ...</td>\n",
              "      <td>4</td>\n",
              "      <td>622</td>\n",
              "    </tr>\n",
              "    <tr>\n",
              "      <th>487</th>\n",
              "      <td>This is NOT a game for your parents!!!!!!  But...</td>\n",
              "      <td>5</td>\n",
              "      <td>452</td>\n",
              "    </tr>\n",
              "    <tr>\n",
              "      <th>402</th>\n",
              "      <td>I gave this box to my boyfriend for Christmas ...</td>\n",
              "      <td>5</td>\n",
              "      <td>449</td>\n",
              "    </tr>\n",
              "    <tr>\n",
              "      <th>433</th>\n",
              "      <td>Sorry, infer what you will from this, but this...</td>\n",
              "      <td>5</td>\n",
              "      <td>414</td>\n",
              "    </tr>\n",
              "    <tr>\n",
              "      <th>399</th>\n",
              "      <td>Ever wondered what a grown-up version of Apple...</td>\n",
              "      <td>5</td>\n",
              "      <td>412</td>\n",
              "    </tr>\n",
              "    <tr>\n",
              "      <th>453</th>\n",
              "      <td>My family's love of margaritas and juvenile hu...</td>\n",
              "      <td>5</td>\n",
              "      <td>399</td>\n",
              "    </tr>\n",
              "    <tr>\n",
              "      <th>430</th>\n",
              "      <td>Firstly, let me just say that I took some of t...</td>\n",
              "      <td>5</td>\n",
              "      <td>396</td>\n",
              "    </tr>\n",
              "    <tr>\n",
              "      <th>475</th>\n",
              "      <td>I've played a lot of games over the years. A l...</td>\n",
              "      <td>5</td>\n",
              "      <td>395</td>\n",
              "    </tr>\n",
              "    <tr>\n",
              "      <th>482</th>\n",
              "      <td>Sometimes a rating of 5/5 stars isn’t enough. ...</td>\n",
              "      <td>5</td>\n",
              "      <td>394</td>\n",
              "    </tr>\n",
              "    <tr>\n",
              "      <th>401</th>\n",
              "      <td>If you like to laugh, and you don't take life ...</td>\n",
              "      <td>5</td>\n",
              "      <td>389</td>\n",
              "    </tr>\n",
              "    <tr>\n",
              "      <th>431</th>\n",
              "      <td>Warning: I have played this game only three ti...</td>\n",
              "      <td>5</td>\n",
              "      <td>376</td>\n",
              "    </tr>\n",
              "    <tr>\n",
              "      <th>420</th>\n",
              "      <td>First off, I'd like to say that I'm a nice per...</td>\n",
              "      <td>5</td>\n",
              "      <td>353</td>\n",
              "    </tr>\n",
              "    <tr>\n",
              "      <th>447</th>\n",
              "      <td>Who Pooped Last? That's how this hilarious gam...</td>\n",
              "      <td>5</td>\n",
              "      <td>348</td>\n",
              "    </tr>\n",
              "    <tr>\n",
              "      <th>439</th>\n",
              "      <td>This is a great game that is easy to whip out ...</td>\n",
              "      <td>5</td>\n",
              "      <td>347</td>\n",
              "    </tr>\n",
              "    <tr>\n",
              "      <th>407</th>\n",
              "      <td>This is, hands down, one of the best games I'v...</td>\n",
              "      <td>5</td>\n",
              "      <td>328</td>\n",
              "    </tr>\n",
              "    <tr>\n",
              "      <th>446</th>\n",
              "      <td>FUN FUN FUN game to play with adults! Some of ...</td>\n",
              "      <td>5</td>\n",
              "      <td>315</td>\n",
              "    </tr>\n",
              "    <tr>\n",
              "      <th>415</th>\n",
              "      <td>Want to cure those doldrums at family get-toge...</td>\n",
              "      <td>5</td>\n",
              "      <td>311</td>\n",
              "    </tr>\n",
              "    <tr>\n",
              "      <th>400</th>\n",
              "      <td>I've been hearing so much about this game, and...</td>\n",
              "      <td>5</td>\n",
              "      <td>311</td>\n",
              "    </tr>\n",
              "    <tr>\n",
              "      <th>455</th>\n",
              "      <td>This has got to be the most hysterical game ev...</td>\n",
              "      <td>5</td>\n",
              "      <td>297</td>\n",
              "    </tr>\n",
              "    <tr>\n",
              "      <th>347</th>\n",
              "      <td>The first time I played this game I laughed un...</td>\n",
              "      <td>4</td>\n",
              "      <td>294</td>\n",
              "    </tr>\n",
              "    <tr>\n",
              "      <th>405</th>\n",
              "      <td>This is rude, crude, and I absolutely love it!...</td>\n",
              "      <td>5</td>\n",
              "      <td>292</td>\n",
              "    </tr>\n",
              "    <tr>\n",
              "      <th>440</th>\n",
              "      <td>The box says it's 'A party game for horrible p...</td>\n",
              "      <td>5</td>\n",
              "      <td>285</td>\n",
              "    </tr>\n",
              "    <tr>\n",
              "      <th>412</th>\n",
              "      <td>Hilarious.  Bought this for a cocktail party w...</td>\n",
              "      <td>5</td>\n",
              "      <td>284</td>\n",
              "    </tr>\n",
              "    <tr>\n",
              "      <th>470</th>\n",
              "      <td>Warning!If you are religious, innocent, shelte...</td>\n",
              "      <td>5</td>\n",
              "      <td>279</td>\n",
              "    </tr>\n",
              "    <tr>\n",
              "      <th>441</th>\n",
              "      <td>Very fun game! It's just like Apples to Apples...</td>\n",
              "      <td>5</td>\n",
              "      <td>274</td>\n",
              "    </tr>\n",
              "    <tr>\n",
              "      <th>494</th>\n",
              "      <td>Price: 25 bucks for the original version. Don'...</td>\n",
              "      <td>5</td>\n",
              "      <td>270</td>\n",
              "    </tr>\n",
              "    <tr>\n",
              "      <th>266</th>\n",
              "      <td>Given the reviews, I thought this was a 'no-fa...</td>\n",
              "      <td>3</td>\n",
              "      <td>265</td>\n",
              "    </tr>\n",
              "    <tr>\n",
              "      <th>85</th>\n",
              "      <td>This game is very representative of the United...</td>\n",
              "      <td>1</td>\n",
              "      <td>264</td>\n",
              "    </tr>\n",
              "    <tr>\n",
              "      <th>488</th>\n",
              "      <td>If you enjoy Apples to Apples and are looking ...</td>\n",
              "      <td>5</td>\n",
              "      <td>263</td>\n",
              "    </tr>\n",
              "    <tr>\n",
              "      <th>474</th>\n",
              "      <td>As my 28 y/o daughter said throughout her firs...</td>\n",
              "      <td>5</td>\n",
              "      <td>259</td>\n",
              "    </tr>\n",
              "    <tr>\n",
              "      <th>...</th>\n",
              "      <td>...</td>\n",
              "      <td>...</td>\n",
              "      <td>...</td>\n",
              "    </tr>\n",
              "    <tr>\n",
              "      <th>41</th>\n",
              "      <td>Great concept. To vulgar for me</td>\n",
              "      <td>1</td>\n",
              "      <td>6</td>\n",
              "    </tr>\n",
              "    <tr>\n",
              "      <th>39</th>\n",
              "      <td>Received an EMPTY BOX very upset</td>\n",
              "      <td>1</td>\n",
              "      <td>6</td>\n",
              "    </tr>\n",
              "    <tr>\n",
              "      <th>78</th>\n",
              "      <td>Played for ten minutes then quit</td>\n",
              "      <td>1</td>\n",
              "      <td>6</td>\n",
              "    </tr>\n",
              "    <tr>\n",
              "      <th>182</th>\n",
              "      <td>Not for kind at heart</td>\n",
              "      <td>2</td>\n",
              "      <td>5</td>\n",
              "    </tr>\n",
              "    <tr>\n",
              "      <th>48</th>\n",
              "      <td>Had some pretty offensive cards</td>\n",
              "      <td>1</td>\n",
              "      <td>5</td>\n",
              "    </tr>\n",
              "    <tr>\n",
              "      <th>98</th>\n",
              "      <td>most dissappointed in the game</td>\n",
              "      <td>1</td>\n",
              "      <td>5</td>\n",
              "    </tr>\n",
              "    <tr>\n",
              "      <th>122</th>\n",
              "      <td>Thought it would be funner</td>\n",
              "      <td>2</td>\n",
              "      <td>5</td>\n",
              "    </tr>\n",
              "    <tr>\n",
              "      <th>64</th>\n",
              "      <td>My box came damaged</td>\n",
              "      <td>1</td>\n",
              "      <td>4</td>\n",
              "    </tr>\n",
              "    <tr>\n",
              "      <th>9</th>\n",
              "      <td>I was really disappointed!</td>\n",
              "      <td>1</td>\n",
              "      <td>4</td>\n",
              "    </tr>\n",
              "    <tr>\n",
              "      <th>94</th>\n",
              "      <td>Don't approve of content.</td>\n",
              "      <td>1</td>\n",
              "      <td>4</td>\n",
              "    </tr>\n",
              "    <tr>\n",
              "      <th>35</th>\n",
              "      <td>Package arrived empty</td>\n",
              "      <td>1</td>\n",
              "      <td>3</td>\n",
              "    </tr>\n",
              "    <tr>\n",
              "      <th>195</th>\n",
              "      <td>the box damage!!!!</td>\n",
              "      <td>2</td>\n",
              "      <td>3</td>\n",
              "    </tr>\n",
              "    <tr>\n",
              "      <th>277</th>\n",
              "      <td>It's pretty raunchy.</td>\n",
              "      <td>3</td>\n",
              "      <td>3</td>\n",
              "    </tr>\n",
              "    <tr>\n",
              "      <th>117</th>\n",
              "      <td>Less than stellar.</td>\n",
              "      <td>2</td>\n",
              "      <td>3</td>\n",
              "    </tr>\n",
              "    <tr>\n",
              "      <th>80</th>\n",
              "      <td>waste of money</td>\n",
              "      <td>1</td>\n",
              "      <td>3</td>\n",
              "    </tr>\n",
              "    <tr>\n",
              "      <th>191</th>\n",
              "      <td>Horrible, nasty game!</td>\n",
              "      <td>2</td>\n",
              "      <td>3</td>\n",
              "    </tr>\n",
              "    <tr>\n",
              "      <th>110</th>\n",
              "      <td>Lots of fun</td>\n",
              "      <td>2</td>\n",
              "      <td>3</td>\n",
              "    </tr>\n",
              "    <tr>\n",
              "      <th>17</th>\n",
              "      <td>It was boring.</td>\n",
              "      <td>1</td>\n",
              "      <td>3</td>\n",
              "    </tr>\n",
              "    <tr>\n",
              "      <th>294</th>\n",
              "      <td>It ok</td>\n",
              "      <td>3</td>\n",
              "      <td>2</td>\n",
              "    </tr>\n",
              "    <tr>\n",
              "      <th>60</th>\n",
              "      <td>Not good</td>\n",
              "      <td>1</td>\n",
              "      <td>2</td>\n",
              "    </tr>\n",
              "    <tr>\n",
              "      <th>25</th>\n",
              "      <td>Silly game...</td>\n",
              "      <td>1</td>\n",
              "      <td>2</td>\n",
              "    </tr>\n",
              "    <tr>\n",
              "      <th>161</th>\n",
              "      <td>Not polite</td>\n",
              "      <td>2</td>\n",
              "      <td>2</td>\n",
              "    </tr>\n",
              "    <tr>\n",
              "      <th>159</th>\n",
              "      <td>very good</td>\n",
              "      <td>2</td>\n",
              "      <td>2</td>\n",
              "    </tr>\n",
              "    <tr>\n",
              "      <th>71</th>\n",
              "      <td>Junk game.</td>\n",
              "      <td>1</td>\n",
              "      <td>2</td>\n",
              "    </tr>\n",
              "    <tr>\n",
              "      <th>145</th>\n",
              "      <td>Highly inappropriate.</td>\n",
              "      <td>2</td>\n",
              "      <td>2</td>\n",
              "    </tr>\n",
              "    <tr>\n",
              "      <th>90</th>\n",
              "      <td>Stupid game</td>\n",
              "      <td>1</td>\n",
              "      <td>2</td>\n",
              "    </tr>\n",
              "    <tr>\n",
              "      <th>229</th>\n",
              "      <td>Christmas gift</td>\n",
              "      <td>3</td>\n",
              "      <td>2</td>\n",
              "    </tr>\n",
              "    <tr>\n",
              "      <th>289</th>\n",
              "      <td>ok</td>\n",
              "      <td>3</td>\n",
              "      <td>1</td>\n",
              "    </tr>\n",
              "    <tr>\n",
              "      <th>77</th>\n",
              "      <td>Trashy</td>\n",
              "      <td>1</td>\n",
              "      <td>1</td>\n",
              "    </tr>\n",
              "    <tr>\n",
              "      <th>121</th>\n",
              "      <td>Good</td>\n",
              "      <td>2</td>\n",
              "      <td>1</td>\n",
              "    </tr>\n",
              "  </tbody>\n",
              "</table>\n",
              "<p>500 rows × 3 columns</p>\n",
              "</div>"
            ],
            "text/plain": [
              "                                                  post  tags  Word Count\n",
              "342  Cards Against Humanity: 4+ Players, Ages 17+, ...     4         622\n",
              "487  This is NOT a game for your parents!!!!!!  But...     5         452\n",
              "402  I gave this box to my boyfriend for Christmas ...     5         449\n",
              "433  Sorry, infer what you will from this, but this...     5         414\n",
              "399  Ever wondered what a grown-up version of Apple...     5         412\n",
              "453  My family's love of margaritas and juvenile hu...     5         399\n",
              "430  Firstly, let me just say that I took some of t...     5         396\n",
              "475  I've played a lot of games over the years. A l...     5         395\n",
              "482  Sometimes a rating of 5/5 stars isn’t enough. ...     5         394\n",
              "401  If you like to laugh, and you don't take life ...     5         389\n",
              "431  Warning: I have played this game only three ti...     5         376\n",
              "420  First off, I'd like to say that I'm a nice per...     5         353\n",
              "447  Who Pooped Last? That's how this hilarious gam...     5         348\n",
              "439  This is a great game that is easy to whip out ...     5         347\n",
              "407  This is, hands down, one of the best games I'v...     5         328\n",
              "446  FUN FUN FUN game to play with adults! Some of ...     5         315\n",
              "415  Want to cure those doldrums at family get-toge...     5         311\n",
              "400  I've been hearing so much about this game, and...     5         311\n",
              "455  This has got to be the most hysterical game ev...     5         297\n",
              "347  The first time I played this game I laughed un...     4         294\n",
              "405  This is rude, crude, and I absolutely love it!...     5         292\n",
              "440  The box says it's 'A party game for horrible p...     5         285\n",
              "412  Hilarious.  Bought this for a cocktail party w...     5         284\n",
              "470  Warning!If you are religious, innocent, shelte...     5         279\n",
              "441  Very fun game! It's just like Apples to Apples...     5         274\n",
              "494  Price: 25 bucks for the original version. Don'...     5         270\n",
              "266  Given the reviews, I thought this was a 'no-fa...     3         265\n",
              "85   This game is very representative of the United...     1         264\n",
              "488  If you enjoy Apples to Apples and are looking ...     5         263\n",
              "474  As my 28 y/o daughter said throughout her firs...     5         259\n",
              "..                                                 ...   ...         ...\n",
              "41                     Great concept. To vulgar for me     1           6\n",
              "39                    Received an EMPTY BOX very upset     1           6\n",
              "78                    Played for ten minutes then quit     1           6\n",
              "182                              Not for kind at heart     2           5\n",
              "48                     Had some pretty offensive cards     1           5\n",
              "98                      most dissappointed in the game     1           5\n",
              "122                         Thought it would be funner     2           5\n",
              "64                                 My box came damaged     1           4\n",
              "9                           I was really disappointed!     1           4\n",
              "94                           Don't approve of content.     1           4\n",
              "35                               Package arrived empty     1           3\n",
              "195                                 the box damage!!!!     2           3\n",
              "277                               It's pretty raunchy.     3           3\n",
              "117                                 Less than stellar.     2           3\n",
              "80                                      waste of money     1           3\n",
              "191                              Horrible, nasty game!     2           3\n",
              "110                                        Lots of fun     2           3\n",
              "17                                      It was boring.     1           3\n",
              "294                                              It ok     3           2\n",
              "60                                            Not good     1           2\n",
              "25                                       Silly game...     1           2\n",
              "161                                         Not polite     2           2\n",
              "159                                          very good     2           2\n",
              "71                                          Junk game.     1           2\n",
              "145                              Highly inappropriate.     2           2\n",
              "90                                         Stupid game     1           2\n",
              "229                                     Christmas gift     3           2\n",
              "289                                                 ok     3           1\n",
              "77                                              Trashy     1           1\n",
              "121                                               Good     2           1\n",
              "\n",
              "[500 rows x 3 columns]"
            ]
          },
          "metadata": {
            "tags": []
          },
          "execution_count": 9
        }
      ]
    },
    {
      "metadata": {
        "id": "sJ3FOmBy9WPt",
        "colab_type": "text"
      },
      "cell_type": "markdown",
      "source": [
        "## Convert the data into X and Y"
      ]
    },
    {
      "metadata": {
        "id": "rc0cvfLqw45T",
        "colab_type": "code",
        "colab": {}
      },
      "cell_type": "code",
      "source": [
        "X = df['post'].values"
      ],
      "execution_count": 0,
      "outputs": []
    },
    {
      "metadata": {
        "id": "Vd2d5uFXxXJh",
        "colab_type": "code",
        "colab": {}
      },
      "cell_type": "code",
      "source": [
        "Y = df['tags']"
      ],
      "execution_count": 0,
      "outputs": []
    },
    {
      "metadata": {
        "id": "-QQK1yxR9YTv",
        "colab_type": "text"
      },
      "cell_type": "markdown",
      "source": [
        "## Split the data into training and testing"
      ]
    },
    {
      "metadata": {
        "id": "M9vrPStxxcHc",
        "colab_type": "code",
        "colab": {}
      },
      "cell_type": "code",
      "source": [
        "X_train, X_test, Y_train, Y_test = train_test_split(X, Y, test_size=0.33, random_state=42)"
      ],
      "execution_count": 0,
      "outputs": []
    },
    {
      "metadata": {
        "id": "RAVnlRPxxrAO",
        "colab_type": "code",
        "outputId": "0c896967-692e-492a-a794-d2833588acbf",
        "colab": {
          "base_uri": "https://localhost:8080/",
          "height": 54
        }
      },
      "cell_type": "code",
      "source": [
        "X_train[0]"
      ],
      "execution_count": 13,
      "outputs": [
        {
          "output_type": "execute_result",
          "data": {
            "text/plain": [
              "'Good luck not peeing your pants while playing this game! Awesome to play with friends and surprisingly hilarious to play with parents/aunts/uncles/etc. It’s super inappropriate and incredibly funny. This is also a great game for a group, whether long term friends or new acquaintances. It’ll break the ice for sure and it also easy to pause for snack/drink refills.'"
            ]
          },
          "metadata": {
            "tags": []
          },
          "execution_count": 13
        }
      ]
    },
    {
      "metadata": {
        "id": "8xTs1wjl9bU1",
        "colab_type": "text"
      },
      "cell_type": "markdown",
      "source": [
        "## Tokenize"
      ]
    },
    {
      "metadata": {
        "id": "fakWR1BJ2p0S",
        "colab_type": "text"
      },
      "cell_type": "markdown",
      "source": [
        "Tokenizer has the ability to count the number of unique words and to allocate a unique number to each of the the words. We can specify the number of words that we want, this is typically the most frequent words. So in our case, we can to allocate an index number of 1000 words. The documentation is here: https://keras.io/preprocessing/text/#tokenizer"
      ]
    },
    {
      "metadata": {
        "id": "5H8x77jyx0oP",
        "colab_type": "code",
        "colab": {}
      },
      "cell_type": "code",
      "source": [
        "max_words = 1000\n",
        "tokenize = text.Tokenizer(num_words=max_words, char_level=False)"
      ],
      "execution_count": 0,
      "outputs": []
    },
    {
      "metadata": {
        "id": "mBNl5e0W3fzz",
        "colab_type": "text"
      },
      "cell_type": "markdown",
      "source": [
        "Now, we can convert each post in our dataset into a vector. The size of the vector *max_words*. The vector is made up of 0's and 1's. There is a value of 1 at the index location of the tokenized words. In other words, if the tokenized words are [what, I, you, where, cat] then the sentence \"where is the cat\" is converted into [0, 0,0,1,1] which indicates that words where and cat are present. In other words, the tokenizer creates a vocabulary and then we can assign a 1 if a word in the text is found in the vocabulary, and the index location is based on the vocabulary. We need to fit this to some data, so we use the training data:"
      ]
    },
    {
      "metadata": {
        "id": "xmUCbkP80S2t",
        "colab_type": "code",
        "colab": {}
      },
      "cell_type": "code",
      "source": [
        "tokenize.fit_on_texts(X_train) "
      ],
      "execution_count": 0,
      "outputs": []
    },
    {
      "metadata": {
        "id": "V3tqODUs4thY",
        "colab_type": "text"
      },
      "cell_type": "markdown",
      "source": [
        "We can take a look at the words and the indices in the vocabulary here:"
      ]
    },
    {
      "metadata": {
        "id": "zMdOL6NU4ohu",
        "colab_type": "code",
        "outputId": "1c93b036-cb64-4abc-fa2f-8407bf7f7658",
        "colab": {
          "base_uri": "https://localhost:8080/",
          "height": 17634
        }
      },
      "cell_type": "code",
      "source": [
        "tokenize.word_index"
      ],
      "execution_count": 16,
      "outputs": [
        {
          "output_type": "execute_result",
          "data": {
            "text/plain": [
              "{'the': 1,\n",
              " 'to': 2,\n",
              " 'a': 3,\n",
              " 'and': 4,\n",
              " 'game': 5,\n",
              " 'of': 6,\n",
              " 'i': 7,\n",
              " 'it': 8,\n",
              " 'you': 9,\n",
              " 'this': 10,\n",
              " 'is': 11,\n",
              " 'cards': 12,\n",
              " 'for': 13,\n",
              " 'that': 14,\n",
              " 'with': 15,\n",
              " 'in': 16,\n",
              " 'are': 17,\n",
              " 'but': 18,\n",
              " 'not': 19,\n",
              " 'or': 20,\n",
              " 'be': 21,\n",
              " 'have': 22,\n",
              " 'as': 23,\n",
              " 'if': 24,\n",
              " 'play': 25,\n",
              " 'so': 26,\n",
              " 'was': 27,\n",
              " 'my': 28,\n",
              " 'we': 29,\n",
              " 'fun': 30,\n",
              " 'all': 31,\n",
              " 'people': 32,\n",
              " 'some': 33,\n",
              " 'card': 34,\n",
              " 'can': 35,\n",
              " 'get': 36,\n",
              " 'on': 37,\n",
              " 'just': 38,\n",
              " 'your': 39,\n",
              " 'at': 40,\n",
              " \"it's\": 41,\n",
              " 'they': 42,\n",
              " 'played': 43,\n",
              " 'friends': 44,\n",
              " 'will': 45,\n",
              " 'playing': 46,\n",
              " 'like': 47,\n",
              " 'more': 48,\n",
              " 'one': 49,\n",
              " 'had': 50,\n",
              " 'out': 51,\n",
              " 'who': 52,\n",
              " 'would': 53,\n",
              " 'box': 54,\n",
              " 'about': 55,\n",
              " 'apples': 56,\n",
              " 'time': 57,\n",
              " 'them': 58,\n",
              " 'there': 59,\n",
              " 'when': 60,\n",
              " 'up': 61,\n",
              " 'funny': 62,\n",
              " 'really': 63,\n",
              " 'after': 64,\n",
              " 'only': 65,\n",
              " 'an': 66,\n",
              " 'were': 67,\n",
              " 'even': 68,\n",
              " 'very': 69,\n",
              " 'their': 70,\n",
              " 'expansion': 71,\n",
              " 'humor': 72,\n",
              " 'what': 73,\n",
              " 'much': 74,\n",
              " 'buy': 75,\n",
              " 'group': 76,\n",
              " 'family': 77,\n",
              " 'great': 78,\n",
              " \"don't\": 79,\n",
              " 'first': 80,\n",
              " 'because': 81,\n",
              " 'know': 82,\n",
              " 'too': 83,\n",
              " 'good': 84,\n",
              " 'from': 85,\n",
              " 'many': 86,\n",
              " 'packs': 87,\n",
              " 'do': 88,\n",
              " 'black': 89,\n",
              " 'few': 90,\n",
              " 'most': 91,\n",
              " 'think': 92,\n",
              " 'person': 93,\n",
              " 'make': 94,\n",
              " 'hilarious': 95,\n",
              " 'adult': 96,\n",
              " 'party': 97,\n",
              " 'set': 98,\n",
              " 'old': 99,\n",
              " 'white': 100,\n",
              " 'has': 101,\n",
              " 'no': 102,\n",
              " 'over': 103,\n",
              " 'our': 104,\n",
              " 'sense': 105,\n",
              " 'games': 106,\n",
              " 'new': 107,\n",
              " 'go': 108,\n",
              " 'gets': 109,\n",
              " 'how': 110,\n",
              " 'then': 111,\n",
              " 'also': 112,\n",
              " 'times': 113,\n",
              " 'these': 114,\n",
              " 'by': 115,\n",
              " 'well': 116,\n",
              " 'against': 117,\n",
              " 'want': 118,\n",
              " 'me': 119,\n",
              " 'definitely': 120,\n",
              " 'off': 121,\n",
              " 'other': 122,\n",
              " 'once': 123,\n",
              " 'little': 124,\n",
              " 'lot': 125,\n",
              " 'best': 126,\n",
              " 'find': 127,\n",
              " 'say': 128,\n",
              " 'while': 129,\n",
              " 'way': 130,\n",
              " 'those': 131,\n",
              " 'own': 132,\n",
              " 'expansions': 133,\n",
              " 'which': 134,\n",
              " 'offended': 135,\n",
              " 'everyone': 136,\n",
              " \"i'm\": 137,\n",
              " 'may': 138,\n",
              " 'same': 139,\n",
              " 'than': 140,\n",
              " 'love': 141,\n",
              " 'players': 142,\n",
              " 'us': 143,\n",
              " 'recommend': 144,\n",
              " 'keep': 145,\n",
              " 'answers': 146,\n",
              " 'need': 147,\n",
              " 'through': 148,\n",
              " 'easily': 149,\n",
              " 'before': 150,\n",
              " 'never': 151,\n",
              " 'though': 152,\n",
              " '4': 153,\n",
              " 'should': 154,\n",
              " 'each': 155,\n",
              " 'things': 156,\n",
              " 'adults': 157,\n",
              " 'being': 158,\n",
              " 'humanity': 159,\n",
              " 'come': 160,\n",
              " 'pretty': 161,\n",
              " 'laugh': 162,\n",
              " 'could': 163,\n",
              " 'kids': 164,\n",
              " 'sure': 165,\n",
              " 'right': 166,\n",
              " 'two': 167,\n",
              " 'been': 168,\n",
              " 'into': 169,\n",
              " \"didn't\": 170,\n",
              " 'boring': 171,\n",
              " \"i've\": 172,\n",
              " 'enjoy': 173,\n",
              " 'see': 174,\n",
              " 'any': 175,\n",
              " 'bought': 176,\n",
              " 'did': 177,\n",
              " 'again': 178,\n",
              " 'answer': 179,\n",
              " 'probably': 180,\n",
              " 'got': 181,\n",
              " 'take': 182,\n",
              " 'however': 183,\n",
              " '2': 184,\n",
              " 'player': 185,\n",
              " 'already': 186,\n",
              " 'hard': 187,\n",
              " 'questions': 188,\n",
              " \"you're\": 189,\n",
              " 'ever': 190,\n",
              " 'its': 191,\n",
              " 'am': 192,\n",
              " 'together': 193,\n",
              " 'always': 194,\n",
              " 'version': 195,\n",
              " 'better': 196,\n",
              " 'horrible': 197,\n",
              " '10': 198,\n",
              " 'thought': 199,\n",
              " '5': 200,\n",
              " 'use': 201,\n",
              " 'laughing': 202,\n",
              " 'around': 203,\n",
              " 'bit': 204,\n",
              " 'quality': 205,\n",
              " 'read': 206,\n",
              " 'round': 207,\n",
              " 'worth': 208,\n",
              " 'down': 209,\n",
              " 'where': 210,\n",
              " 'every': 211,\n",
              " \"can't\": 212,\n",
              " 'now': 213,\n",
              " 'unless': 214,\n",
              " 'offensive': 215,\n",
              " 'raunchy': 216,\n",
              " 'content': 217,\n",
              " 'long': 218,\n",
              " 'night': 219,\n",
              " 'drinking': 220,\n",
              " 'going': 221,\n",
              " 'question': 222,\n",
              " 'someone': 223,\n",
              " '1': 224,\n",
              " 'inappropriate': 225,\n",
              " 'easy': 226,\n",
              " 'hours': 227,\n",
              " 'reviews': 228,\n",
              " 'anyone': 229,\n",
              " 'something': 230,\n",
              " 'still': 231,\n",
              " 'said': 232,\n",
              " 'made': 233,\n",
              " 'money': 234,\n",
              " 'purchased': 235,\n",
              " 'found': 236,\n",
              " 'having': 237,\n",
              " '3': 238,\n",
              " 'year': 239,\n",
              " \"you've\": 240,\n",
              " 'far': 241,\n",
              " 'enough': 242,\n",
              " 'couple': 243,\n",
              " 'parents': 244,\n",
              " 'feel': 245,\n",
              " 'quickly': 246,\n",
              " \"i'd\": 247,\n",
              " 'blank': 248,\n",
              " 'laughs': 249,\n",
              " \"doesn't\": 250,\n",
              " 'maybe': 251,\n",
              " \"you'll\": 252,\n",
              " 'stars': 253,\n",
              " 'since': 254,\n",
              " 'took': 255,\n",
              " 'especially': 256,\n",
              " 'deck': 257,\n",
              " 'heard': 258,\n",
              " 'christmas': 259,\n",
              " '25': 260,\n",
              " 'pack': 261,\n",
              " 'ok': 262,\n",
              " \"that's\": 263,\n",
              " 'end': 264,\n",
              " \"'\": 265,\n",
              " 'judge': 266,\n",
              " 'hand': 267,\n",
              " 'point': 268,\n",
              " 'came': 269,\n",
              " 'laughter': 270,\n",
              " 'he': 271,\n",
              " 'her': 272,\n",
              " 'another': 273,\n",
              " 'seems': 274,\n",
              " 'add': 275,\n",
              " 'original': 276,\n",
              " 'such': 277,\n",
              " 'thing': 278,\n",
              " 'buying': 279,\n",
              " 'does': 280,\n",
              " 'wins': 281,\n",
              " 'cah': 282,\n",
              " 'others': 283,\n",
              " 'jokes': 284,\n",
              " 'different': 285,\n",
              " 'children': 286,\n",
              " 'getting': 287,\n",
              " 'number': 288,\n",
              " 'open': 289,\n",
              " 'sometimes': 290,\n",
              " 'several': 291,\n",
              " 'nights': 292,\n",
              " 'else': 293,\n",
              " 'give': 294,\n",
              " 'age': 295,\n",
              " 'entertaining': 296,\n",
              " 'price': 297,\n",
              " 'back': 298,\n",
              " '20': 299,\n",
              " 'looking': 300,\n",
              " '6': 301,\n",
              " 'kind': 302,\n",
              " 'nice': 303,\n",
              " 'rules': 304,\n",
              " 'instead': 305,\n",
              " 'choose': 306,\n",
              " 'dirty': 307,\n",
              " 'sex': 308,\n",
              " 'vulgar': 309,\n",
              " 'until': 310,\n",
              " 'used': 311,\n",
              " 'started': 312,\n",
              " 'enjoyed': 313,\n",
              " 'part': 314,\n",
              " 'why': 315,\n",
              " 'sets': 316,\n",
              " 'makes': 317,\n",
              " 'sexual': 318,\n",
              " 'rather': 319,\n",
              " 'politically': 320,\n",
              " 'favorite': 321,\n",
              " 'either': 322,\n",
              " \"isn't\": 323,\n",
              " 'home': 324,\n",
              " 'points': 325,\n",
              " 'years': 326,\n",
              " 'wanted': 327,\n",
              " 'went': 328,\n",
              " 'least': 329,\n",
              " 'high': 330,\n",
              " 'wish': 331,\n",
              " 'usually': 332,\n",
              " \"there's\": 333,\n",
              " 'wrong': 334,\n",
              " 'understand': 335,\n",
              " 'pick': 336,\n",
              " 'large': 337,\n",
              " 'perfect': 338,\n",
              " 'four': 339,\n",
              " 'less': 340,\n",
              " 'here': 341,\n",
              " 'otherwise': 342,\n",
              " 'appropriate': 343,\n",
              " 'disgusting': 344,\n",
              " 'pay': 345,\n",
              " 'twisted': 346,\n",
              " 'become': 347,\n",
              " 'must': 348,\n",
              " \"aren't\": 349,\n",
              " \"wouldn't\": 350,\n",
              " 'order': 351,\n",
              " 'nothing': 352,\n",
              " '17': 353,\n",
              " 'look': 354,\n",
              " 'mean': 355,\n",
              " 'interesting': 356,\n",
              " 'value': 357,\n",
              " 'actually': 358,\n",
              " 'whole': 359,\n",
              " 'product': 360,\n",
              " 'second': 361,\n",
              " 'simply': 362,\n",
              " 'next': 363,\n",
              " 'disappointed': 364,\n",
              " 'amount': 365,\n",
              " 'purchase': 366,\n",
              " 'absolutely': 367,\n",
              " 'please': 368,\n",
              " 'damaged': 369,\n",
              " 'crowd': 370,\n",
              " 'bad': 371,\n",
              " 'let': 372,\n",
              " 'crude': 373,\n",
              " 'laughed': 374,\n",
              " 'chosen': 375,\n",
              " 'word': 376,\n",
              " 'board': 377,\n",
              " 'ones': 378,\n",
              " 'combinations': 379,\n",
              " 'last': 380,\n",
              " 'anything': 381,\n",
              " 'super': 382,\n",
              " 'package': 383,\n",
              " 'small': 384,\n",
              " 'simple': 385,\n",
              " 'drinks': 386,\n",
              " 'problem': 387,\n",
              " 'day': 388,\n",
              " 'side': 389,\n",
              " 'parties': 390,\n",
              " 'house': 391,\n",
              " 'during': 392,\n",
              " 'guess': 393,\n",
              " 'certain': 394,\n",
              " 'help': 395,\n",
              " 'without': 396,\n",
              " 'mind': 397,\n",
              " 'possible': 398,\n",
              " 'bored': 399,\n",
              " 'dark': 400,\n",
              " 'uncomfortable': 401,\n",
              " 'company': 402,\n",
              " 'decided': 403,\n",
              " 'fill': 404,\n",
              " 'print': 405,\n",
              " 'blast': 406,\n",
              " 'joke': 407,\n",
              " 'reading': 408,\n",
              " 'often': 409,\n",
              " 'gave': 410,\n",
              " 'gift': 411,\n",
              " 'young': 412,\n",
              " 'shock': 413,\n",
              " 'minded': 414,\n",
              " 'groups': 415,\n",
              " 'etc': 416,\n",
              " 'it’s': 417,\n",
              " 'fast': 418,\n",
              " 'plus': 419,\n",
              " 'third': 420,\n",
              " 'him': 421,\n",
              " 'making': 422,\n",
              " 'seemed': 423,\n",
              " 'both': 424,\n",
              " 'fresh': 425,\n",
              " 'twice': 426,\n",
              " 'highly': 427,\n",
              " 'thinking': 428,\n",
              " 'goes': 429,\n",
              " \"won't\": 430,\n",
              " 'might': 431,\n",
              " 'words': 432,\n",
              " 'turn': 433,\n",
              " 'wait': 434,\n",
              " 'i’m': 435,\n",
              " 'mix': 436,\n",
              " 'start': 437,\n",
              " 'between': 438,\n",
              " 'topics': 439,\n",
              " 'yourself': 440,\n",
              " 'quick': 441,\n",
              " 'husband': 442,\n",
              " 'seriously': 443,\n",
              " 'says': 444,\n",
              " 'culture': 445,\n",
              " 'rated': 446,\n",
              " 'bunch': 447,\n",
              " 'due': 448,\n",
              " 'away': 449,\n",
              " 'online': 450,\n",
              " 'sick': 451,\n",
              " 'review': 452,\n",
              " 'big': 453,\n",
              " 'put': 454,\n",
              " 'learn': 455,\n",
              " 'winning': 456,\n",
              " 'expected': 457,\n",
              " 'store': 458,\n",
              " 'folks': 459,\n",
              " 'myself': 460,\n",
              " 'plays': 461,\n",
              " 'win': 462,\n",
              " 'she': 463,\n",
              " 'totally': 464,\n",
              " 'idea': 465,\n",
              " 'prude': 466,\n",
              " 'okay': 467,\n",
              " 'trying': 468,\n",
              " 'themselves': 469,\n",
              " 'somewhat': 470,\n",
              " 'try': 471,\n",
              " '18': 472,\n",
              " 'ages': 473,\n",
              " 'alcohol': 474,\n",
              " 'itself': 475,\n",
              " 'arrived': 476,\n",
              " 'don’t': 477,\n",
              " 'lots': 478,\n",
              " \"haven't\": 479,\n",
              " 'return': 480,\n",
              " 'matter': 481,\n",
              " 'website': 482,\n",
              " 'honestly': 483,\n",
              " 'three': 484,\n",
              " 'shocked': 485,\n",
              " 'repetitive': 486,\n",
              " 's': 487,\n",
              " 'teens': 488,\n",
              " 'knowing': 489,\n",
              " 'quite': 490,\n",
              " 'daughter': 491,\n",
              " 'nasty': 492,\n",
              " 'mother': 493,\n",
              " 'amazon': 494,\n",
              " 'chips': 495,\n",
              " 'comes': 496,\n",
              " 'awesome': 497,\n",
              " 'opened': 498,\n",
              " 'received': 499,\n",
              " 'anymore': 500,\n",
              " 'dinner': 501,\n",
              " 'full': 502,\n",
              " 'tag': 503,\n",
              " 'table': 504,\n",
              " 'live': 505,\n",
              " 'option': 506,\n",
              " 'mixed': 507,\n",
              " 'extremely': 508,\n",
              " 'star': 509,\n",
              " 'suggest': 510,\n",
              " 'under': 511,\n",
              " 'correct': 512,\n",
              " 'shocking': 513,\n",
              " 'hearing': 514,\n",
              " 'lost': 515,\n",
              " 'sensitive': 516,\n",
              " 'bring': 517,\n",
              " 'almost': 518,\n",
              " 'hold': 519,\n",
              " 'free': 520,\n",
              " 'entire': 521,\n",
              " 'didn’t': 522,\n",
              " 'plan': 523,\n",
              " 'response': 524,\n",
              " '100': 525,\n",
              " 'half': 526,\n",
              " 'starts': 527,\n",
              " \"'a\": 528,\n",
              " 'awful': 529,\n",
              " 'world': 530,\n",
              " 'overall': 531,\n",
              " 'obviously': 532,\n",
              " 'additional': 533,\n",
              " 'realize': 534,\n",
              " 'official': 535,\n",
              " 'empty': 536,\n",
              " 'lame': 537,\n",
              " 'reason': 538,\n",
              " 'basic': 539,\n",
              " 'drink': 540,\n",
              " \"i'll\": 541,\n",
              " 'returned': 542,\n",
              " 'five': 543,\n",
              " 'place': 544,\n",
              " 'leave': 545,\n",
              " \"wasn't\": 546,\n",
              " 'conversation': 547,\n",
              " 'tons': 548,\n",
              " 'mom': 549,\n",
              " 'seem': 550,\n",
              " 'school': 551,\n",
              " 'create': 552,\n",
              " 'base': 553,\n",
              " 'audience': 554,\n",
              " 'room': 555,\n",
              " 'friend': 556,\n",
              " 'mature': 557,\n",
              " 'recommended': 558,\n",
              " 'perhaps': 559,\n",
              " 'left': 560,\n",
              " 'available': 561,\n",
              " 'host': 562,\n",
              " 'within': 563,\n",
              " 'description': 564,\n",
              " 'soon': 565,\n",
              " 'stock': 566,\n",
              " 'truly': 567,\n",
              " 'phrase': 568,\n",
              " 'type': 569,\n",
              " 'you’ll': 570,\n",
              " 'sort': 571,\n",
              " 'gross': 572,\n",
              " 'copy': 573,\n",
              " 'told': 574,\n",
              " 'experience': 575,\n",
              " 'combination': 576,\n",
              " 'glad': 577,\n",
              " 'entertainment': 578,\n",
              " 'top': 579,\n",
              " 'care': 580,\n",
              " 'giving': 581,\n",
              " 'grandma': 582,\n",
              " 'course': 583,\n",
              " 'brought': 584,\n",
              " 'slightly': 585,\n",
              " 'faint': 586,\n",
              " 'heart': 587,\n",
              " 'stuck': 588,\n",
              " 'stupid': 589,\n",
              " 'drunk': 590,\n",
              " 'rest': 591,\n",
              " 'mostly': 592,\n",
              " 'incorrect': 593,\n",
              " 'real': 594,\n",
              " 'expensive': 595,\n",
              " 'believe': 596,\n",
              " \"we've\": 597,\n",
              " 'days': 598,\n",
              " 'kinda': 599,\n",
              " 'self': 600,\n",
              " 'ordered': 601,\n",
              " 'item': 602,\n",
              " 'continue': 603,\n",
              " '8': 604,\n",
              " 'similar': 605,\n",
              " 'cut': 606,\n",
              " 'excited': 607,\n",
              " '00': 608,\n",
              " 'incredibly': 609,\n",
              " 'mail': 610,\n",
              " 'complete': 611,\n",
              " 'necessary': 612,\n",
              " 'his': 613,\n",
              " 'interest': 614,\n",
              " 'literally': 615,\n",
              " 'minutes': 616,\n",
              " 'seen': 617,\n",
              " 'embarrassed': 618,\n",
              " 'recently': 619,\n",
              " 'thanksgiving': 620,\n",
              " 'close': 621,\n",
              " 'members': 622,\n",
              " 'eventually': 623,\n",
              " 'generally': 624,\n",
              " 'completely': 625,\n",
              " 'future': 626,\n",
              " 'variety': 627,\n",
              " 'college': 628,\n",
              " 'becomes': 629,\n",
              " 'unique': 630,\n",
              " 'appeal': 631,\n",
              " 'case': 632,\n",
              " 'sorry': 633,\n",
              " 'hour': 634,\n",
              " 'worst': 635,\n",
              " 'decide': 636,\n",
              " 'allow': 637,\n",
              " 'responses': 638,\n",
              " 'explicit': 639,\n",
              " 'terrible': 640,\n",
              " 'hit': 641,\n",
              " 'consider': 642,\n",
              " 'work': 643,\n",
              " 'sold': 644,\n",
              " 'saw': 645,\n",
              " 'paper': 646,\n",
              " 'talking': 647,\n",
              " 'show': 648,\n",
              " 'spent': 649,\n",
              " 'able': 650,\n",
              " 'life': 651,\n",
              " 'multiple': 652,\n",
              " 'works': 653,\n",
              " 'fact': 654,\n",
              " 'including': 655,\n",
              " 'yr': 656,\n",
              " 'brother': 657,\n",
              " 'felt': 658,\n",
              " 'bent': 659,\n",
              " \"people'\": 660,\n",
              " 'repeat': 661,\n",
              " \"they're\": 662,\n",
              " 'personally': 663,\n",
              " 'throw': 664,\n",
              " 'funnier': 665,\n",
              " '30': 666,\n",
              " 'humorous': 667,\n",
              " 'coming': 668,\n",
              " 'hysterical': 669,\n",
              " 'considering': 670,\n",
              " 'fan': 671,\n",
              " 'range': 672,\n",
              " 'although': 673,\n",
              " 'spend': 674,\n",
              " 'based': 675,\n",
              " 'stomach': 676,\n",
              " 'nearly': 677,\n",
              " 'draw': 678,\n",
              " 'weekend': 679,\n",
              " 'expect': 680,\n",
              " 'creative': 681,\n",
              " 'teenage': 682,\n",
              " 'extension': 683,\n",
              " 'rounds': 684,\n",
              " 'hear': 685,\n",
              " 'change': 686,\n",
              " 'meh': 687,\n",
              " 'messed': 688,\n",
              " 'lol': 689,\n",
              " 'c': 690,\n",
              " 'printed': 691,\n",
              " 'done': 692,\n",
              " 'run': 693,\n",
              " 'crazy': 694,\n",
              " 'concept': 695,\n",
              " 'looked': 696,\n",
              " 'rating': 697,\n",
              " 'google': 698,\n",
              " 'blanks': 699,\n",
              " 'later': 700,\n",
              " \"we're\": 701,\n",
              " 'knew': 702,\n",
              " 'amazing': 703,\n",
              " 'filthy': 704,\n",
              " 'bigger': 705,\n",
              " 'involved': 706,\n",
              " 'check': 707,\n",
              " 'choice': 708,\n",
              " 'degenerate': 709,\n",
              " 'fit': 710,\n",
              " 'yeah': 711,\n",
              " 'imagine': 712,\n",
              " 'reads': 713,\n",
              " 'vulgarity': 714,\n",
              " 'son': 715,\n",
              " 'whether': 716,\n",
              " 'break': 717,\n",
              " 'ripped': 718,\n",
              " 'breath': 719,\n",
              " 'opinion': 720,\n",
              " 'occasionally': 721,\n",
              " 'nephew': 722,\n",
              " 'themed': 723,\n",
              " 'known': 724,\n",
              " 'czar': 725,\n",
              " 'introduced': 726,\n",
              " 'guests': 727,\n",
              " 'line': 728,\n",
              " 'child': 729,\n",
              " 'sister': 730,\n",
              " \"couldn't\": 731,\n",
              " 'tend': 732,\n",
              " 'rule': 733,\n",
              " 'difficult': 734,\n",
              " 'complaint': 735,\n",
              " 'needs': 736,\n",
              " 'subject': 737,\n",
              " 'overly': 738,\n",
              " 'included': 739,\n",
              " 'drawback': 740,\n",
              " 'beer': 741,\n",
              " 'extra': 742,\n",
              " 'results': 743,\n",
              " 'fine': 744,\n",
              " 'manner': 745,\n",
              " 'attention': 746,\n",
              " 'requirement': 747,\n",
              " 'across': 748,\n",
              " 'despite': 749,\n",
              " 'power': 750,\n",
              " 'hands': 751,\n",
              " 'planning': 752,\n",
              " 'anticipated': 753,\n",
              " 'nor': 754,\n",
              " 'personal': 755,\n",
              " 'forced': 756,\n",
              " 'supposed': 757,\n",
              " 'evening': 758,\n",
              " 'loves': 759,\n",
              " 'gameplay': 760,\n",
              " 'clever': 761,\n",
              " 'political': 762,\n",
              " \"box'\": 763,\n",
              " 'download': 764,\n",
              " 're': 765,\n",
              " 'liked': 766,\n",
              " 'boxes': 767,\n",
              " 'shuffle': 768,\n",
              " 'beware': 769,\n",
              " 'brothers': 770,\n",
              " 'deal': 771,\n",
              " 'ask': 772,\n",
              " 'describe': 773,\n",
              " 'moments': 774,\n",
              " 'awkward': 775,\n",
              " 'explain': 776,\n",
              " 'front': 777,\n",
              " 'opening': 778,\n",
              " 'forward': 779,\n",
              " 'actual': 780,\n",
              " 'tired': 781,\n",
              " 'prudish': 782,\n",
              " '14': 783,\n",
              " 'crying': 784,\n",
              " \"'apples\": 785,\n",
              " 'purchasing': 786,\n",
              " 'grandmother': 787,\n",
              " 'clear': 788,\n",
              " 'true': 789,\n",
              " '3rd': 790,\n",
              " 'hate': 791,\n",
              " 'wear': 792,\n",
              " 'god': 793,\n",
              " 'certainly': 794,\n",
              " 'takes': 795,\n",
              " 'straight': 796,\n",
              " 'subjective': 797,\n",
              " 'judging': 798,\n",
              " 'color': 799,\n",
              " 'gone': 800,\n",
              " 'asking': 801,\n",
              " 'green': 802,\n",
              " 'red': 803,\n",
              " 'blue': 804,\n",
              " 'oh': 805,\n",
              " 'placing': 806,\n",
              " 'whoever': 807,\n",
              " '15': 808,\n",
              " 'addition': 809,\n",
              " 'fire': 810,\n",
              " 'bathroom': 811,\n",
              " 'printing': 812,\n",
              " 'condition': 813,\n",
              " 'throughout': 814,\n",
              " '7': 815,\n",
              " 'guys': 816,\n",
              " 'surprised': 817,\n",
              " 'picks': 818,\n",
              " 'rude': 819,\n",
              " 'basically': 820,\n",
              " 'knows': 821,\n",
              " 'reader': 822,\n",
              " 'novelty': 823,\n",
              " 'silly': 824,\n",
              " 'months': 825,\n",
              " 'larger': 826,\n",
              " 'rolling': 827,\n",
              " 'yet': 828,\n",
              " 'wanting': 829,\n",
              " 'boyfriend': 830,\n",
              " 'likely': 831,\n",
              " 'cry': 832,\n",
              " 'kid': 833,\n",
              " 'worse': 834,\n",
              " 'phrases': 835,\n",
              " 'allows': 836,\n",
              " 'ways': 837,\n",
              " 'b': 838,\n",
              " 'longer': 839,\n",
              " 'wants': 840,\n",
              " 'winner': 841,\n",
              " 'ha': 842,\n",
              " 'stuff': 843,\n",
              " 'happy': 844,\n",
              " 'tear': 845,\n",
              " 'realized': 846,\n",
              " 'hidden': 847,\n",
              " 'brand': 848,\n",
              " '“apples': 849,\n",
              " 'careful': 850,\n",
              " '“cards': 851,\n",
              " 'humanity”': 852,\n",
              " 'listed': 853,\n",
              " 'aside': 854,\n",
              " \"weren't\": 855,\n",
              " 'sober': 856,\n",
              " 'expecting': 857,\n",
              " 'waste': 858,\n",
              " 'funniest': 859,\n",
              " 'liquid': 860,\n",
              " 'luck': 861,\n",
              " 'ice': 862,\n",
              " \"'card\": 863,\n",
              " 'catch': 864,\n",
              " 'allowing': 865,\n",
              " 'drew': 866,\n",
              " 'originally': 867,\n",
              " 'topic': 868,\n",
              " 'loud': 869,\n",
              " 'mine': 870,\n",
              " 'short': 871,\n",
              " 'unable': 872,\n",
              " 'ago': 873,\n",
              " 'contained': 874,\n",
              " 'obscene': 875,\n",
              " 'selected': 876,\n",
              " 'hype': 877,\n",
              " 'creativity': 878,\n",
              " 'madlibs': 879,\n",
              " 'w': 880,\n",
              " 'fair': 881,\n",
              " 'questionable': 882,\n",
              " '13': 883,\n",
              " 'plenty': 884,\n",
              " 'opportunity': 885,\n",
              " 'via': 886,\n",
              " 'current': 887,\n",
              " 'standard': 888,\n",
              " 'tame': 889,\n",
              " 'successful': 890,\n",
              " 'surprise': 891,\n",
              " 'factor': 892,\n",
              " 'loses': 893,\n",
              " 'note': 894,\n",
              " 'delivered': 895,\n",
              " 'timely': 896,\n",
              " 'shipping': 897,\n",
              " '21': 898,\n",
              " 'described': 899,\n",
              " 'finally': 900,\n",
              " 'everything': 901,\n",
              " 'fairly': 902,\n",
              " 'premise': 903,\n",
              " 'stop': 904,\n",
              " 'currently': 905,\n",
              " 'decent': 906,\n",
              " 'handy': 907,\n",
              " 'paid': 908,\n",
              " \"humanity'\": 909,\n",
              " 'discussing': 910,\n",
              " 'repeats': 911,\n",
              " 'creators': 912,\n",
              " 'concerned': 913,\n",
              " 'haha': 914,\n",
              " 'blacker': 915,\n",
              " 'given': 916,\n",
              " 'bother': 917,\n",
              " 'picking': 918,\n",
              " 'pass': 919,\n",
              " 'dictionary': 920,\n",
              " 'early': 921,\n",
              " 'ridiculous': 922,\n",
              " 'shame': 923,\n",
              " '19': 924,\n",
              " 'determine': 925,\n",
              " 'feeling': 926,\n",
              " 'showing': 927,\n",
              " 'cheap': 928,\n",
              " 'discovered': 929,\n",
              " 'grown': 930,\n",
              " 'example': 931,\n",
              " 'man': 932,\n",
              " 'chooses': 933,\n",
              " 'weird': 934,\n",
              " 'states': 935,\n",
              " 'o': 936,\n",
              " 'church': 937,\n",
              " 'cool': 938,\n",
              " 'conversations': 939,\n",
              " 'needed': 940,\n",
              " 'older': 941,\n",
              " 'south': 942,\n",
              " 'prior': 943,\n",
              " 'warned': 944,\n",
              " 'thin': 945,\n",
              " 'siblings': 946,\n",
              " 'forget': 947,\n",
              " 'count': 948,\n",
              " 'size': 949,\n",
              " 'variant': 950,\n",
              " 'admit': 951,\n",
              " 'olds': 952,\n",
              " 'serious': 953,\n",
              " 'constantly': 954,\n",
              " 'turned': 955,\n",
              " 'includes': 956,\n",
              " 'awhile': 957,\n",
              " 'morning': 958,\n",
              " 'saying': 959,\n",
              " 'racial': 960,\n",
              " 'total': 961,\n",
              " 'hoot': 962,\n",
              " 'clean': 963,\n",
              " 'intended': 964,\n",
              " 'past': 965,\n",
              " 'main': 966,\n",
              " 'embarrassment': 967,\n",
              " 'info': 968,\n",
              " 'along': 969,\n",
              " 'entertained': 970,\n",
              " 'gatherings': 971,\n",
              " 'gathering': 972,\n",
              " \"apples'\": 973,\n",
              " 'pooped': 974,\n",
              " 'missing': 975,\n",
              " 'naughty': 976,\n",
              " 'dirtiest': 977,\n",
              " 'circle': 978,\n",
              " 'video': 979,\n",
              " 'references': 980,\n",
              " 'caution': 981,\n",
              " 'drugs': 982,\n",
              " 'cheaper': 983,\n",
              " 'water': 984,\n",
              " 'produce': 985,\n",
              " 'excellent': 986,\n",
              " 'religious': 987,\n",
              " 'shot': 988,\n",
              " \"game'\": 989,\n",
              " 'damn': 990,\n",
              " 'single': 991,\n",
              " '16': 992,\n",
              " 'discussions': 993,\n",
              " 'pc': 994,\n",
              " 'character': 995,\n",
              " 'discussion': 996,\n",
              " 'offer': 997,\n",
              " 'score': 998,\n",
              " 'cover': 999,\n",
              " 'submitted': 1000,\n",
              " ...}"
            ]
          },
          "metadata": {
            "tags": []
          },
          "execution_count": 16
        }
      ]
    },
    {
      "metadata": {
        "id": "MnmjBg8P4yIf",
        "colab_type": "text"
      },
      "cell_type": "markdown",
      "source": [
        "Then, we go ahead and convert the training and testing features into their corresponding vectors. The size of these vectors is based on the size of the vocabulary, in our case 1000."
      ]
    },
    {
      "metadata": {
        "id": "7Spc3QZW0cQN",
        "colab_type": "code",
        "colab": {}
      },
      "cell_type": "code",
      "source": [
        "X_train_token = tokenize.texts_to_matrix(X_train)\n",
        "X_test_token = tokenize.texts_to_matrix(X_test)"
      ],
      "execution_count": 0,
      "outputs": []
    },
    {
      "metadata": {
        "id": "xAhFYSHt0c4x",
        "colab_type": "code",
        "outputId": "3559aabb-93eb-422f-e826-ad8615dfa047",
        "colab": {
          "base_uri": "https://localhost:8080/",
          "height": 1055
        }
      },
      "cell_type": "code",
      "source": [
        "X_train_token[0]"
      ],
      "execution_count": 18,
      "outputs": [
        {
          "output_type": "execute_result",
          "data": {
            "text/plain": [
              "array([0., 1., 1., 1., 1., 1., 0., 0., 1., 0., 1., 1., 0., 1., 0., 1., 0.,\n",
              "       0., 0., 1., 1., 0., 0., 0., 0., 1., 0., 0., 0., 0., 0., 0., 0., 0.,\n",
              "       0., 0., 0., 0., 0., 1., 0., 0., 0., 0., 1., 0., 1., 0., 0., 0., 0.,\n",
              "       0., 0., 0., 0., 0., 0., 0., 0., 0., 0., 0., 1., 0., 0., 0., 0., 0.,\n",
              "       0., 0., 0., 0., 0., 0., 0., 0., 1., 0., 1., 0., 0., 0., 0., 0., 1.,\n",
              "       0., 0., 0., 0., 0., 0., 0., 0., 0., 0., 1., 0., 0., 0., 0., 0., 0.,\n",
              "       0., 0., 0., 0., 0., 1., 0., 0., 0., 0., 1., 0., 0., 0., 0., 0., 0.,\n",
              "       0., 0., 0., 0., 0., 0., 0., 0., 0., 0., 1., 0., 0., 0., 0., 0., 0.,\n",
              "       0., 0., 0., 0., 0., 0., 0., 0., 0., 0., 0., 0., 0., 0., 0., 0., 0.,\n",
              "       0., 0., 0., 0., 0., 0., 0., 0., 0., 0., 0., 0., 1., 0., 0., 0., 0.,\n",
              "       0., 0., 0., 0., 0., 0., 0., 0., 0., 0., 0., 0., 0., 0., 0., 0., 0.,\n",
              "       0., 0., 0., 0., 0., 0., 0., 0., 0., 0., 0., 0., 0., 0., 0., 0., 0.,\n",
              "       0., 0., 0., 0., 0., 0., 0., 0., 0., 0., 0., 0., 0., 0., 1., 0., 0.,\n",
              "       0., 0., 0., 0., 1., 1., 0., 0., 0., 0., 0., 0., 0., 0., 0., 0., 0.,\n",
              "       0., 0., 0., 0., 0., 0., 1., 0., 0., 0., 0., 0., 0., 0., 0., 0., 0.,\n",
              "       0., 0., 0., 0., 0., 0., 0., 0., 0., 0., 0., 0., 0., 0., 0., 0., 0.,\n",
              "       0., 0., 0., 0., 0., 0., 0., 0., 0., 0., 0., 0., 0., 0., 0., 0., 0.,\n",
              "       0., 0., 0., 0., 0., 0., 0., 0., 0., 0., 0., 0., 0., 0., 0., 0., 0.,\n",
              "       0., 0., 0., 0., 0., 0., 0., 0., 0., 0., 0., 0., 0., 0., 0., 0., 0.,\n",
              "       0., 0., 0., 0., 0., 0., 0., 0., 0., 0., 0., 0., 0., 0., 0., 0., 0.,\n",
              "       0., 0., 0., 0., 0., 0., 0., 0., 0., 0., 0., 0., 0., 0., 0., 0., 0.,\n",
              "       0., 0., 0., 0., 0., 0., 0., 0., 0., 0., 0., 0., 0., 0., 0., 0., 0.,\n",
              "       0., 0., 0., 0., 0., 0., 0., 0., 1., 0., 0., 0., 0., 0., 0., 0., 0.,\n",
              "       0., 0., 0., 0., 0., 0., 0., 0., 0., 0., 0., 0., 0., 0., 0., 0., 0.,\n",
              "       0., 0., 0., 0., 0., 0., 0., 0., 1., 1., 0., 0., 0., 0., 0., 0., 0.,\n",
              "       0., 0., 0., 0., 0., 0., 0., 0., 0., 0., 0., 0., 0., 0., 0., 0., 0.,\n",
              "       0., 0., 0., 0., 0., 0., 0., 0., 0., 0., 0., 0., 0., 0., 0., 0., 0.,\n",
              "       0., 0., 0., 0., 0., 0., 0., 0., 0., 0., 0., 0., 0., 0., 0., 0., 0.,\n",
              "       0., 0., 0., 0., 0., 0., 0., 0., 0., 0., 0., 0., 0., 0., 0., 0., 0.,\n",
              "       0., 0., 0., 0., 1., 0., 0., 0., 0., 0., 0., 0., 0., 0., 0., 0., 0.,\n",
              "       0., 0., 0., 0., 0., 0., 0., 0., 0., 0., 0., 0., 0., 0., 0., 0., 0.,\n",
              "       0., 0., 0., 0., 0., 0., 0., 0., 0., 0., 0., 0., 0., 1., 0., 0., 0.,\n",
              "       0., 0., 0., 0., 0., 0., 0., 0., 0., 0., 0., 0., 0., 0., 0., 0., 0.,\n",
              "       0., 0., 0., 0., 0., 0., 0., 0., 0., 0., 0., 0., 0., 0., 0., 0., 0.,\n",
              "       0., 0., 0., 0., 0., 0., 0., 0., 0., 0., 0., 0., 0., 0., 0., 0., 0.,\n",
              "       0., 0., 0., 0., 0., 0., 0., 0., 0., 0., 0., 0., 0., 0., 1., 0., 0.,\n",
              "       0., 0., 0., 0., 0., 0., 0., 0., 0., 0., 0., 0., 0., 0., 0., 0., 0.,\n",
              "       0., 0., 0., 0., 0., 0., 0., 0., 0., 0., 0., 0., 0., 0., 0., 0., 0.,\n",
              "       0., 0., 0., 0., 0., 0., 0., 0., 0., 0., 0., 0., 0., 0., 0., 0., 0.,\n",
              "       0., 0., 0., 0., 0., 0., 0., 0., 0., 0., 0., 0., 0., 0., 0., 0., 0.,\n",
              "       0., 0., 0., 0., 0., 0., 0., 0., 0., 0., 0., 0., 0., 0., 0., 0., 0.,\n",
              "       0., 0., 0., 0., 0., 0., 0., 0., 0., 0., 0., 0., 0., 0., 0., 0., 0.,\n",
              "       0., 0., 1., 1., 0., 0., 0., 0., 0., 0., 0., 0., 0., 0., 0., 0., 0.,\n",
              "       0., 0., 0., 0., 0., 0., 0., 0., 0., 0., 0., 0., 0., 0., 0., 0., 0.,\n",
              "       0., 0., 0., 0., 0., 0., 0., 0., 0., 0., 0., 0., 0., 0., 0., 0., 0.,\n",
              "       0., 0., 0., 0., 0., 0., 0., 0., 0., 0., 0., 0., 0., 0., 0., 0., 0.,\n",
              "       0., 0., 0., 0., 0., 0., 0., 0., 0., 0., 0., 0., 0., 0., 0., 0., 0.,\n",
              "       0., 0., 0., 0., 0., 0., 0., 0., 0., 0., 0., 0., 0., 0., 0., 0., 0.,\n",
              "       0., 0., 0., 0., 0., 0., 0., 0., 0., 0., 0., 0., 0., 0., 0., 0., 0.,\n",
              "       0., 0., 0., 0., 0., 0., 0., 0., 0., 0., 0., 0., 0., 0., 0., 0., 0.,\n",
              "       0., 0., 0., 0., 0., 0., 0., 0., 0., 0., 0., 1., 1., 0., 0., 0., 0.,\n",
              "       0., 0., 0., 0., 0., 0., 0., 0., 0., 0., 0., 0., 0., 0., 0., 0., 0.,\n",
              "       0., 0., 0., 0., 0., 0., 0., 0., 0., 0., 0., 0., 0., 0., 0., 0., 0.,\n",
              "       0., 0., 0., 0., 0., 0., 0., 0., 0., 0., 0., 0., 0., 0., 0., 0., 0.,\n",
              "       0., 0., 0., 0., 0., 0., 0., 0., 0., 0., 0., 0., 0., 0., 0., 0., 0.,\n",
              "       0., 0., 0., 0., 0., 0., 0., 0., 0., 0., 0., 0., 0., 0., 0., 0., 0.,\n",
              "       0., 0., 0., 0., 0., 0., 0., 0., 0., 0., 0., 0., 0., 0., 0., 0., 0.,\n",
              "       0., 0., 0., 0., 0., 0., 0., 0., 0., 0., 0., 0., 0., 0., 0., 0., 0.,\n",
              "       0., 0., 0., 0., 0., 0., 0., 0., 0., 0., 0., 0., 0., 0.])"
            ]
          },
          "metadata": {
            "tags": []
          },
          "execution_count": 18
        }
      ]
    },
    {
      "metadata": {
        "id": "bW0mnDfI5LIN",
        "colab_type": "text"
      },
      "cell_type": "markdown",
      "source": [
        "Check size here"
      ]
    },
    {
      "metadata": {
        "id": "3oQyn1fM47Ed",
        "colab_type": "code",
        "outputId": "c84c80e3-83d4-417d-d380-ac7dc6b930e8",
        "colab": {
          "base_uri": "https://localhost:8080/",
          "height": 34
        }
      },
      "cell_type": "code",
      "source": [
        "len(X_train_token[0])"
      ],
      "execution_count": 19,
      "outputs": [
        {
          "output_type": "execute_result",
          "data": {
            "text/plain": [
              "1000"
            ]
          },
          "metadata": {
            "tags": []
          },
          "execution_count": 19
        }
      ]
    },
    {
      "metadata": {
        "id": "rdLUP3jL5M14",
        "colab_type": "text"
      },
      "cell_type": "markdown",
      "source": [
        "Now we need to convert the labels (targets) into their corresponding one-hot encoded values. One way to do this is to convert each label into a number, and then convert the number into a one-hot encoded vector."
      ]
    },
    {
      "metadata": {
        "id": "hsiqdkbQ9fc6",
        "colab_type": "text"
      },
      "cell_type": "markdown",
      "source": [
        "## Encode the targets"
      ]
    },
    {
      "metadata": {
        "id": "xVp3fLUX0lx5",
        "colab_type": "code",
        "colab": {}
      },
      "cell_type": "code",
      "source": [
        "# Use sklearn utility to convert label strings to numbered index\n",
        "encoder = LabelEncoder()\n",
        "encoder.fit(Y_train)\n",
        "Y_train_encoded = encoder.transform(Y_train)\n",
        "Y_test_encoded = encoder.transform(Y_test)"
      ],
      "execution_count": 0,
      "outputs": []
    },
    {
      "metadata": {
        "id": "2Gyn1jbd0zOj",
        "colab_type": "code",
        "outputId": "42de27c9-6adf-4439-aed7-1d84e72577e3",
        "colab": {
          "base_uri": "https://localhost:8080/",
          "height": 34
        }
      },
      "cell_type": "code",
      "source": [
        "Y_train_encoded[0]"
      ],
      "execution_count": 21,
      "outputs": [
        {
          "output_type": "execute_result",
          "data": {
            "text/plain": [
              "4"
            ]
          },
          "metadata": {
            "tags": []
          },
          "execution_count": 21
        }
      ]
    },
    {
      "metadata": {
        "id": "U6mUsqR95iW_",
        "colab_type": "text"
      },
      "cell_type": "markdown",
      "source": [
        "Now convert into one-hot encoded vectors"
      ]
    },
    {
      "metadata": {
        "id": "G-F3dn0Q1GNl",
        "colab_type": "code",
        "colab": {}
      },
      "cell_type": "code",
      "source": [
        "Y_train_hot = utils.to_categorical(Y_train_encoded, num_classes)\n",
        "Y_test_hot = utils.to_categorical(Y_test_encoded, num_classes)"
      ],
      "execution_count": 0,
      "outputs": []
    },
    {
      "metadata": {
        "id": "S-vTOMU25lkB",
        "colab_type": "code",
        "outputId": "68acb474-27f1-452c-f7da-02d652910aa0",
        "colab": {
          "base_uri": "https://localhost:8080/",
          "height": 34
        }
      },
      "cell_type": "code",
      "source": [
        "Y_train_hot[0]"
      ],
      "execution_count": 23,
      "outputs": [
        {
          "output_type": "execute_result",
          "data": {
            "text/plain": [
              "array([0., 0., 0., 0., 1.], dtype=float32)"
            ]
          },
          "metadata": {
            "tags": []
          },
          "execution_count": 23
        }
      ]
    },
    {
      "metadata": {
        "id": "BvWNcmBA5pQM",
        "colab_type": "text"
      },
      "cell_type": "markdown",
      "source": [
        "Check the shapes.\n",
        "\n",
        "Here are 2680 training samples and 1320 testing samples.\n",
        "\n",
        "Each feature sample is a vector of length 1000 and each target is of length 20 (since there are 20 unique classes and the values have been one-hot encoded)."
      ]
    },
    {
      "metadata": {
        "id": "nshxtUG21YQd",
        "colab_type": "code",
        "outputId": "7a6e039a-0a84-4bf9-bf89-d4799fc07375",
        "colab": {
          "base_uri": "https://localhost:8080/",
          "height": 87
        }
      },
      "cell_type": "code",
      "source": [
        "print('x_train shape:', X_train_token.shape)\n",
        "print('x_test shape:', X_test_token.shape)\n",
        "print('y_train shape:', Y_train_hot.shape)\n",
        "print('y_test shape:', Y_test_hot.shape)"
      ],
      "execution_count": 24,
      "outputs": [
        {
          "output_type": "stream",
          "text": [
            "x_train shape: (335, 1000)\n",
            "x_test shape: (165, 1000)\n",
            "y_train shape: (335, 5)\n",
            "y_test shape: (165, 5)\n"
          ],
          "name": "stdout"
        }
      ]
    },
    {
      "metadata": {
        "id": "RrbzzTwt6FwJ",
        "colab_type": "text"
      },
      "cell_type": "markdown",
      "source": [
        "## Hyper-parameters"
      ]
    },
    {
      "metadata": {
        "id": "2zfsIQAz1kmN",
        "colab_type": "code",
        "colab": {}
      },
      "cell_type": "code",
      "source": [
        "batch_size = 16\n",
        "epochs = 10"
      ],
      "execution_count": 0,
      "outputs": []
    },
    {
      "metadata": {
        "id": "rkheiNOZ6KBU",
        "colab_type": "text"
      },
      "cell_type": "markdown",
      "source": [
        "## Build the model"
      ]
    },
    {
      "metadata": {
        "id": "v5Lo1P_y6IOr",
        "colab_type": "code",
        "outputId": "d8e79680-fe07-42b7-e7c2-420f1916999e",
        "colab": {
          "base_uri": "https://localhost:8080/",
          "height": 142
        }
      },
      "cell_type": "code",
      "source": [
        "model = Sequential()\n",
        "model.add(Dense(512, input_shape=(max_words,)))\n",
        "model.add(Activation('relu'))\n",
        "model.add(Dropout(0.5))\n",
        "model.add(Dense(num_classes))\n",
        "model.add(Activation('softmax'))\n",
        "\n",
        "model.compile(loss='categorical_crossentropy',\n",
        "              optimizer='adam',\n",
        "              metrics=['accuracy'])"
      ],
      "execution_count": 26,
      "outputs": [
        {
          "output_type": "stream",
          "text": [
            "WARNING:tensorflow:From /usr/local/lib/python3.6/dist-packages/tensorflow/python/framework/op_def_library.py:263: colocate_with (from tensorflow.python.framework.ops) is deprecated and will be removed in a future version.\n",
            "Instructions for updating:\n",
            "Colocations handled automatically by placer.\n",
            "WARNING:tensorflow:From /usr/local/lib/python3.6/dist-packages/keras/backend/tensorflow_backend.py:3445: calling dropout (from tensorflow.python.ops.nn_ops) with keep_prob is deprecated and will be removed in a future version.\n",
            "Instructions for updating:\n",
            "Please use `rate` instead of `keep_prob`. Rate should be set to `rate = 1 - keep_prob`.\n"
          ],
          "name": "stdout"
        }
      ]
    },
    {
      "metadata": {
        "id": "UVWDIxjC6NQV",
        "colab_type": "code",
        "outputId": "100fbfc6-a77e-4e23-9d7e-d3c34adffcf5",
        "colab": {
          "base_uri": "https://localhost:8080/",
          "height": 459
        }
      },
      "cell_type": "code",
      "source": [
        "history = model.fit(X_train_token, Y_train_hot,batch_size=batch_size,\n",
        "                    epochs=epochs,verbose=1,\n",
        "                    validation_split=0.1)"
      ],
      "execution_count": 27,
      "outputs": [
        {
          "output_type": "stream",
          "text": [
            "WARNING:tensorflow:From /usr/local/lib/python3.6/dist-packages/tensorflow/python/ops/math_ops.py:3066: to_int32 (from tensorflow.python.ops.math_ops) is deprecated and will be removed in a future version.\n",
            "Instructions for updating:\n",
            "Use tf.cast instead.\n",
            "Train on 301 samples, validate on 34 samples\n",
            "Epoch 1/10\n",
            "301/301 [==============================] - 1s 3ms/step - loss: 1.5476 - acc: 0.2691 - val_loss: 1.4515 - val_acc: 0.2941\n",
            "Epoch 2/10\n",
            "301/301 [==============================] - 0s 770us/step - loss: 1.0605 - acc: 0.6578 - val_loss: 1.4598 - val_acc: 0.3529\n",
            "Epoch 3/10\n",
            "301/301 [==============================] - 0s 790us/step - loss: 0.7611 - acc: 0.8538 - val_loss: 1.3916 - val_acc: 0.3824\n",
            "Epoch 4/10\n",
            "301/301 [==============================] - 0s 725us/step - loss: 0.5481 - acc: 0.9402 - val_loss: 1.4108 - val_acc: 0.3529\n",
            "Epoch 5/10\n",
            "301/301 [==============================] - 0s 733us/step - loss: 0.3826 - acc: 0.9701 - val_loss: 1.4022 - val_acc: 0.3824\n",
            "Epoch 6/10\n",
            "301/301 [==============================] - 0s 772us/step - loss: 0.2904 - acc: 0.9767 - val_loss: 1.4358 - val_acc: 0.3235\n",
            "Epoch 7/10\n",
            "301/301 [==============================] - 0s 739us/step - loss: 0.2307 - acc: 0.9767 - val_loss: 1.4781 - val_acc: 0.3824\n",
            "Epoch 8/10\n",
            "301/301 [==============================] - 0s 726us/step - loss: 0.1767 - acc: 0.9767 - val_loss: 1.5233 - val_acc: 0.3824\n",
            "Epoch 9/10\n",
            "301/301 [==============================] - 0s 760us/step - loss: 0.1318 - acc: 0.9900 - val_loss: 1.5584 - val_acc: 0.3824\n",
            "Epoch 10/10\n",
            "301/301 [==============================] - 0s 746us/step - loss: 0.1129 - acc: 0.9967 - val_loss: 1.5974 - val_acc: 0.3824\n"
          ],
          "name": "stdout"
        }
      ]
    },
    {
      "metadata": {
        "id": "7ggU6yJI6peW",
        "colab_type": "text"
      },
      "cell_type": "markdown",
      "source": [
        "## Check accuracy"
      ]
    },
    {
      "metadata": {
        "id": "6jItAI8r6jTO",
        "colab_type": "code",
        "outputId": "36e3582d-bfbc-4d84-b84b-71cdc8cf6b29",
        "colab": {
          "base_uri": "https://localhost:8080/",
          "height": 52
        }
      },
      "cell_type": "code",
      "source": [
        "# Evaluate the accuracy of our trained model\n",
        "score = model.evaluate(X_test_token, Y_test_hot,\n",
        "                       batch_size=batch_size, verbose=1)\n",
        "print('Test accuracy:', score[1])"
      ],
      "execution_count": 28,
      "outputs": [
        {
          "output_type": "stream",
          "text": [
            "165/165 [==============================] - 0s 160us/step\n",
            "Test accuracy: 0.4545454549066948\n"
          ],
          "name": "stdout"
        }
      ]
    },
    {
      "metadata": {
        "id": "W5tJJ7G47Urz",
        "colab_type": "code",
        "outputId": "cd8d63e1-299b-4928-fdcd-bf7f567702c9",
        "colab": {
          "base_uri": "https://localhost:8080/",
          "height": 158
        }
      },
      "cell_type": "code",
      "source": [
        "Y_test.values"
      ],
      "execution_count": 29,
      "outputs": [
        {
          "output_type": "execute_result",
          "data": {
            "text/plain": [
              "array([4, 1, 4, 2, 2, 4, 4, 2, 1, 5, 1, 2, 5, 1, 4, 4, 1, 1, 4, 5, 5, 5,\n",
              "       3, 4, 1, 5, 3, 3, 2, 4, 5, 4, 5, 2, 1, 4, 5, 1, 3, 1, 4, 1, 5, 2,\n",
              "       1, 1, 1, 1, 5, 1, 1, 2, 2, 5, 2, 1, 2, 1, 3, 1, 5, 3, 4, 5, 1, 1,\n",
              "       5, 1, 3, 4, 4, 4, 3, 3, 4, 4, 3, 1, 5, 5, 2, 1, 5, 2, 4, 1, 2, 5,\n",
              "       4, 3, 4, 5, 4, 4, 5, 4, 1, 1, 5, 1, 3, 5, 1, 4, 4, 1, 4, 3, 4, 2,\n",
              "       2, 5, 4, 1, 5, 3, 3, 3, 2, 1, 3, 2, 4, 2, 3, 3, 5, 3, 2, 4, 1, 2,\n",
              "       5, 3, 2, 1, 2, 1, 1, 3, 1, 3, 5, 1, 3, 3, 1, 3, 3, 5, 1, 2, 1, 1,\n",
              "       5, 4, 1, 3, 5, 1, 2, 4, 5, 1, 5])"
            ]
          },
          "metadata": {
            "tags": []
          },
          "execution_count": 29
        }
      ]
    },
    {
      "metadata": {
        "id": "2IUBbdMk9kVG",
        "colab_type": "text"
      },
      "cell_type": "markdown",
      "source": [
        "## Predict"
      ]
    },
    {
      "metadata": {
        "id": "_QqHpfQZ6uX-",
        "colab_type": "code",
        "outputId": "1ee80a7c-54b9-43b0-e6f0-d03a4eaadb3f",
        "colab": {
          "base_uri": "https://localhost:8080/",
          "height": 741
        }
      },
      "cell_type": "code",
      "source": [
        "text_labels = encoder.classes_ \n",
        "for i in range(10):\n",
        "    prediction = model.predict(np.array([X_test_token[i]]))\n",
        "    predicted_label = text_labels[np.argmax(prediction)]\n",
        "    print('Text: ',X_test[i])\n",
        "    print('Actual Rating: ' + str(Y_test.values[i]))\n",
        "    print('Predicted Rating: ' + str(predicted_label) + '\\n')"
      ],
      "execution_count": 30,
      "outputs": [
        {
          "output_type": "stream",
          "text": [
            "Text:  This game is perfect for getting friends together, and having a good laugh. Apples to Apples but a more mature way of putting it. After one really long game though you know every single card. I will be ordering an expansion pack for the game soon, because the game seems like a money trap. But I like it and I like to have guests over. Its a great way to get to know your friends humor and how they react to certain 'Horrible' situations.\n",
            "Actual Rating: 4\n",
            "Predicted Rating: 4\n",
            "\n",
            "Text:  I thought I would be able to play this with my granddaughters. No way. The cards are rude and crass and inappropriate. Not funny to me at all. Must be for 20something age group.  I wouldn't play this if you paid me.\n",
            "Actual Rating: 1\n",
            "Predicted Rating: 1\n",
            "\n",
            "Text:  Very fun game hours of laughter. The only thing I don’t like is that once you’re through the cards once, it’s not funny anymore. You’ll have to buy more cards.\n",
            "Actual Rating: 4\n",
            "Predicted Rating: 2\n",
            "\n",
            "Text:  People say this is so much fun. I don't really think it is. it's kind of lame, loaded questions is way better\n",
            "Actual Rating: 2\n",
            "Predicted Rating: 3\n",
            "\n",
            "Text:  This game is geared more for college aged kids, very sexually oriented.\n",
            "Actual Rating: 2\n",
            "Predicted Rating: 2\n",
            "\n",
            "Text:  The only reason I'm docking it to four stars instead of five is that this is utterly, totally inappropriate for not only most age groups, but also a whole lot of cultures and subcultures. There are so many in jokes and American pop culture references that, no matter who you are, you're likely to find a few that just don't make sense.This is a shameless Apples to Apples clone that adds in so much horrifying profanity and grotesquely sexual innuendo that, in exactly the manner it was intended, it's shocking even to most 20-somethings. If you're unfamiliar with the game's origins, it was designed as a dorm game, which is eminently clear as soon as you've played a round or two.That said: For people in their 20's and 30's who have been reasonably plugged in to internet and media culture over the last decade or so, this game is absolutely hilarious. Expect zero subtlety and make sure you have a few bottles of something strong handy, and this will likely become a staple of your party gaming.\n",
            "Actual Rating: 4\n",
            "Predicted Rating: 4\n",
            "\n",
            "Text:  I purchased this game  when I purchased my first home so I could entertain. I was told it was just like Apples to Apples, but a more adult version. I heard great things about Cards against Humanity, but, until I played the game myself I didn't realize how perfect it was. A good time is guaranteed when playing this game. I have played it with friends and even family and we always have a blast. It's addictive.  The cards are hilarious and quirky and it's so easy to play, however, everyone in my group decides to skip over the 'pick two' cards because it is too difficult to read them in a specific order and try to conceal the identity of the person who has played the cards, especially if there is a large group of people playing. Some of the cards make absolutely no sense which makes it all the more hilarious and fun to play. After a while the cards get old. I recommend buying the expansion packs to add to the fun. I really enjoy this product and will continue to play every chance I get.\n",
            "Actual Rating: 4\n",
            "Predicted Rating: 4\n",
            "\n",
            "Text:  Great game , many of the cards came dirty , very disappointed\n",
            "Actual Rating: 2\n",
            "Predicted Rating: 1\n",
            "\n",
            "Text:  I received a salt and pepper shaker instead of the game. I don’t know how that happened. Lol. I thought it was a joke package at first but sure enough, it was an empty salt and pepper grinder.\n",
            "Actual Rating: 1\n",
            "Predicted Rating: 1\n",
            "\n",
            "Text:  As funny as a bunch of rabid squirrels! Oh, I'm loving this game more and more. If you have a dark sense of humor, And no limits, This game is for you. I've been playing it, And love it. The instruction manual is great too! Couldn't stop laughing.Hope you get it, If you have no limitations or can handle dark humor.I played it with my dad last night, And we both laughed so hard, We sprained our backs the next day. So sore, But it was well worth it.My dad nearly passed out laughing.The best that money can buy.\n",
            "Actual Rating: 5\n",
            "Predicted Rating: 5\n",
            "\n"
          ],
          "name": "stdout"
        }
      ]
    },
    {
      "metadata": {
        "id": "Epf9IUoHXilC",
        "colab_type": "text"
      },
      "cell_type": "markdown",
      "source": [
        "## Prediciting user input:\n",
        "\n",
        "Now you get to add your own review and let the program predict its rating!"
      ]
    },
    {
      "metadata": {
        "id": "t2KuACrSX52s",
        "colab_type": "code",
        "colab": {
          "base_uri": "https://localhost:8080/",
          "height": 72
        },
        "outputId": "9567406f-652f-4185-f395-39e5e24507a4"
      },
      "cell_type": "code",
      "source": [
        "new_input = input(\"write review: \")\n",
        "new_rating = input(\"write amount of stars (1 through 5): \")"
      ],
      "execution_count": 34,
      "outputs": [
        {
          "output_type": "stream",
          "text": [
            "write review: This product is very good. I only find myself finding flaws in some of the jokes that can be repetitive, but overall it is very fun.\n",
            "write amount of stars (1 through 5): 3\n"
          ],
          "name": "stdout"
        }
      ]
    },
    {
      "metadata": {
        "id": "EAXC9jtxYLf4",
        "colab_type": "code",
        "colab": {}
      },
      "cell_type": "code",
      "source": [
        "new_input_token = tokenize.texts_to_matrix([new_input])\n",
        "prediction = model.predict(np.array([new_input_token[0]]))\n",
        "predicted_label = text_labels[np.argmax(prediction)]"
      ],
      "execution_count": 0,
      "outputs": []
    },
    {
      "metadata": {
        "id": "K0SAhu1UYyMg",
        "colab_type": "code",
        "colab": {
          "base_uri": "https://localhost:8080/",
          "height": 87
        },
        "outputId": "98fc3668-d28a-4b90-be6c-fa4f4eb208ce"
      },
      "cell_type": "code",
      "source": [
        "print(\"Text: \" + new_input)\n",
        "print(\"Actual Rating: \" + new_rating)\n",
        "print(\"Predicted Rating: \" + str(predicted_label) + \"\\n\")"
      ],
      "execution_count": 36,
      "outputs": [
        {
          "output_type": "stream",
          "text": [
            "Text: This product is very good. I only find myself finding flaws in some of the jokes that can be repetitive, but overall it is very fun.\n",
            "Actual Rating: 3\n",
            "Predicted Rating: 2\n",
            "\n"
          ],
          "name": "stdout"
        }
      ]
    }
  ]
}